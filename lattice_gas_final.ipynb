{
 "cells": [
  {
   "cell_type": "code",
   "execution_count": null,
   "id": "40e31887",
   "metadata": {},
   "outputs": [],
   "source": [
    " # run with python3 lattice.gas.py --visualize to switch on real time visualization of configurations"
   ]
  },
  {
   "cell_type": "code",
   "execution_count": null,
   "id": "88093424",
   "metadata": {},
   "outputs": [],
   "source": [
    "\n",
    "# Import required libraries\n",
    "import numpy as np\n",
    "import matplotlib.pyplot as plt\n",
    "from tqdm import tqdm\n",
    "import argparse  # Added for command-line argument parsing\n",
    "from numba import njit  # For just-in-time compilation to speed up performance-critical functions"
   ]
  },
  {
   "cell_type": "code",
   "execution_count": null,
   "id": "297f04f7",
   "metadata": {},
   "outputs": [],
   "source": [
    "# Define nearest-neighbor directions (up, down, left, right)\n",
    "NEIGHBORS = np.array([[1, 0], [-1, 0], [0, 1], [0, -1]])"
   ]
  },
  {
   "cell_type": "code",
   "execution_count": null,
   "id": "868ac5ee",
   "metadata": {},
   "outputs": [],
   "source": [
    "# Compute the energy change resulting from swapping two particles\n",
    "@njit\n",
    "def delta_energy(lattice, L, i1, j1, i2, j2):\n",
    "    n1 = lattice[i1, j1]\n",
    "    n2 = lattice[i2, j2]\n",
    "    s1 = 0\n",
    "    s2 = 0\n",
    "    # Compute the sum of neighbors for each site\n",
    "    for d in NEIGHBORS:\n",
    "        ii1 = (i1 + d[0]) % L\n",
    "        jj1 = (j1 + d[1]) % L\n",
    "        s1 += lattice[ii1, jj1]\n",
    "        ii2 = (i2 + d[0]) % L\n",
    "        jj2 = (j2 + d[1]) % L\n",
    "        s2 += lattice[ii2, jj2]\n",
    "    # Return the energy difference caused by swapping\n",
    "    return (n1 - n2) * (s1 - s2)"
   ]
  },
  {
   "cell_type": "code",
   "execution_count": null,
   "id": "083badbe",
   "metadata": {},
   "outputs": [],
   "source": [
    "# Perform a Metropolis sweep using pre-generated indices of swap sites\n",
    "@njit\n",
    "def sweep_with_indices(lattice, L, T, indices):\n",
    "    accepted = 0\n",
    "    attempted = 0\n",
    "    for i in range(indices.shape[0]):\n",
    "        i1, j1, i2, j2 = indices[i]\n",
    "        dE = delta_energy(lattice, L, i1, j1, i2, j2)\n",
    "        attempted += 1\n",
    "        # Accept the swap if it lowers energy or with Boltzmann probability\n",
    "        if dE <= 0 or np.random.rand() < np.exp(-dE / T):\n",
    "            tmp = lattice[i1, j1]\n",
    "            lattice[i1, j1] = lattice[i2, j2]\n",
    "            lattice[i2, j2] = tmp\n",
    "            accepted += 1\n",
    "    return accepted, attempted"
   ]
  },
  {
   "cell_type": "code",
   "execution_count": null,
   "id": "6622662f",
   "metadata": {},
   "outputs": [],
   "source": [
    "# Generate valid particle swap pairs avoiding self-swaps and nearest neighbors\n",
    "def generate_valid_indices(L, n):\n",
    "    indices = []\n",
    "    while len(indices) < n:\n",
    "        i1, j1 = np.random.randint(0, L, 2)\n",
    "        i2, j2 = np.random.randint(0, L, 2)\n",
    "        if i1 == i2 and j1 == j2:\n",
    "            continue\n",
    "        di = min(abs(i1 - i2), L - abs(i1 - i2))\n",
    "        dj = min(abs(j1 - j2), L - abs(j1 - j2))\n",
    "        # Avoid adjacent sites (ensures detailed balance)\n",
    "        if di + dj == 1:\n",
    "            continue\n",
    "        indices.append((i1, j1, i2, j2))\n",
    "    return np.array(indices, dtype=np.int32)"
   ]
  },
  {
   "cell_type": "code",
   "execution_count": null,
   "id": "a66ac93c",
   "metadata": {},
   "outputs": [],
   "source": [
    "# Compute the structure factor (square of Fourier transform of density fluctuations)\n",
    "def compute_structure_factor(config):\n",
    "    rho = config.astype(np.float32) - np.mean(config)\n",
    "    F = np.fft.fftshift(np.fft.fft2(rho))\n",
    "    return np.abs(F) ** 2"
   ]
  },
  {
   "cell_type": "code",
   "execution_count": null,
   "id": "bfe4c72c",
   "metadata": {},
   "outputs": [],
   "source": [
    "# Compute the pair correlation function g(r)\n",
    "def compute_pair_correlation(config, n_bins=50):\n",
    "    L = config.shape[0]\n",
    "    particles = np.argwhere(config)\n",
    "    # Compute all pairwise distances\n",
    "    diffs = particles[:, None, :] - particles[None, :, :]\n",
    "    diffs = (diffs + L/2) % L - L/2  # Apply periodic boundary conditions\n",
    "    dists = np.sqrt((diffs**2).sum(axis=2)).ravel()\n",
    "    edges = np.linspace(0, L/np.sqrt(2), n_bins + 1)\n",
    "    hist, _ = np.histogram(dists, bins=edges)\n",
    "    r = 0.5 * (edges[:-1] + edges[1:])\n",
    "    rho = config.mean()\n",
    "    dr = edges[1] - edges[0]\n",
    "    norm = 2 * np.pi * r * dr * rho * len(particles)\n",
    "    g = hist / norm\n",
    "    return r, g"
   ]
  },
  {
   "cell_type": "code",
   "execution_count": null,
   "id": "9a800758",
   "metadata": {},
   "outputs": [],
   "source": [
    "# Compute radial average of a 2D array (e.g., structure factor)\n",
    "def radial_average(S, n_bins=50):\n",
    "    L = S.shape[0]\n",
    "    y, x = np.indices((L, L))\n",
    "    r = np.sqrt((x - L//2)**2 + (y - L//2)**2)\n",
    "    r_flat = r.ravel()\n",
    "    S_flat = S.ravel()\n",
    "    bins = np.linspace(0, r.max(), n_bins + 1)\n",
    "    inds = np.digitize(r_flat, bins)\n",
    "    radial_S = np.zeros(n_bins)\n",
    "    for i in range(1, n_bins + 1):\n",
    "        mask = inds == i\n",
    "        if np.any(mask):\n",
    "            radial_S[i-1] = S_flat[mask].mean()\n",
    "    r_centers = 0.5 * (bins[:-1] + bins[1:])\n",
    "    return r_centers, radial_S"
   ]
  },
  {
   "cell_type": "code",
   "execution_count": null,
   "id": "743f7f00",
   "metadata": {},
   "outputs": [],
   "source": [
    "\n",
    "# Compute total energy of the lattice\n",
    "@njit\n",
    "def compute_total_energy(lattice, L):\n",
    "    energy = 0.0\n",
    "    for i in range(L):\n",
    "        for j in range(L):\n",
    "            n = lattice[i, j]\n",
    "            for d in NEIGHBORS:\n",
    "                ni = (i + d[0]) % L\n",
    "                nj = (j + d[1]) % L\n",
    "                energy -= 0.5 * n * lattice[ni, nj]  # Avoid double counting\n",
    "    return energy"
   ]
  },
  {
   "cell_type": "code",
   "execution_count": null,
   "id": "996521a2",
   "metadata": {},
   "outputs": [],
   "source": [
    "# ------------------ Main Simulation ------------------\n",
    "import os"
   ]
  },
  {
   "cell_type": "code",
   "execution_count": null,
   "id": "e4607a09",
   "metadata": {},
   "outputs": [],
   "source": [
    "if __name__ == \"__main__\":\n",
    " # Parse command-line arguments\n",
    "    parser = argparse.ArgumentParser(description=\"Lattice Gas Simulation\")\n",
    "    parser.add_argument('--visualize', action='store_true', help='Enable live visualization')\n",
    "    args = parser.parse_args()"
   ]
  },
  {
   "cell_type": "code",
   "execution_count": null,
   "id": "aa09a82b",
   "metadata": {},
   "outputs": [],
   "source": [
    "    live_viz = args.visualize\n",
    "    print(f\"Live visualization: {'ON' if live_viz else 'OFF'}\")"
   ]
  },
  {
   "cell_type": "code",
   "execution_count": null,
   "id": "6548a612",
   "metadata": {},
   "outputs": [],
   "source": [
    "    plt.ion()  # Interactive mode on for live visualization"
   ]
  },
  {
   "cell_type": "code",
   "execution_count": null,
   "id": "c34d3803",
   "metadata": {},
   "outputs": [],
   "source": [
    "    # Simulation parameters\n",
    "    L = 50  # Lattice size\n",
    "    density = 0.5  # Initial particle density\n",
    "    T = 0.4  # Temperature\n",
    "    n_sweeps_eq = 200  # Number of sweeps to equilibrate\n",
    "    n_sweeps_per_meas = 10  # Sweeps between measurements\n",
    "    n_meas = 200  # Number of measurements"
   ]
  },
  {
   "cell_type": "code",
   "execution_count": null,
   "id": "8f8b1cab",
   "metadata": {},
   "outputs": [],
   "source": [
    "    # Initialize lattice with random particle configuration\n",
    "    lattice = (np.random.rand(L, L) < density).astype(np.uint8)\n",
    "    total_accept = 0\n",
    "    total_attempt = 0"
   ]
  },
  {
   "cell_type": "code",
   "execution_count": null,
   "id": "591f2428",
   "metadata": {},
   "outputs": [],
   "source": [
    "    accum_g = None\n",
    "    accum_S = None"
   ]
  },
  {
   "cell_type": "code",
   "execution_count": null,
   "id": "329c3a62",
   "metadata": {},
   "outputs": [],
   "source": [
    "    # Equilibration phase\n",
    "    for _ in tqdm(range(n_sweeps_eq), desc='Equilibrating'):  #Creates a progress bar \n",
    "        indices = generate_valid_indices(L, L * L)\n",
    "        a, b = sweep_with_indices(lattice, L, T, indices)\n",
    "        total_accept += a\n",
    "        total_attempt += b"
   ]
  },
  {
   "cell_type": "code",
   "execution_count": null,
   "id": "d320e6bf",
   "metadata": {},
   "outputs": [],
   "source": [
    "    # Measurement phase where we at intervals sample observables: the radial distribution function g(r) and the structure factor\n",
    "    for _ in tqdm(range(n_meas), desc='Sampling'):\n",
    "        if live_viz:\n",
    "            plt.clf()\n",
    "            plt.imshow(lattice, cmap=\"gray\", vmin=0, vmax=1)\n",
    "            plt.title(f\"Lattice (meas step {_})\")\n",
    "            plt.pause(0.001)"
   ]
  },
  {
   "cell_type": "code",
   "execution_count": null,
   "id": "8d709c47",
   "metadata": {},
   "outputs": [],
   "source": [
    "        for _ in range(n_sweeps_per_meas):\n",
    "            indices = generate_valid_indices(L, L * L)\n",
    "            a, b = sweep_with_indices(lattice, L, T, indices)\n",
    "            total_accept += a\n",
    "            total_attempt += b\n",
    "        r_vals, g = compute_pair_correlation(lattice)\n",
    "        S = compute_structure_factor(lattice)\n",
    "        if accum_g is None:\n",
    "            accum_g = np.zeros_like(g)\n",
    "            accum_S = np.zeros_like(S)\n",
    "        accum_g += g\n",
    "        accum_S += S\n",
    "     # Average the energy and the square of the energy\n",
    "        energy = compute_total_energy(lattice, L)\n",
    "        if 'accum_energy' not in locals():\n",
    "            accum_energy = 0.0\n",
    "            accum_energy_sq = 0.0\n",
    "        accum_energy += energy\n",
    "        accum_energy_sq += energy ** 2"
   ]
  },
  {
   "cell_type": "code",
   "execution_count": null,
   "id": "763d7e7c",
   "metadata": {},
   "outputs": [],
   "source": [
    "    # Average observables over measurements\n",
    "    g_avg = accum_g / n_meas\n",
    "    S_avg = accum_S / n_meas\n",
    "    r_S, S_rad = radial_average(S_avg) # compute the radially averaged structure factor as well as full 2d version."
   ]
  },
  {
   "cell_type": "code",
   "execution_count": null,
   "id": "5e5889e1",
   "metadata": {},
   "outputs": [],
   "source": [
    "    E_avg = accum_energy / n_meas\n",
    "    E2_avg = accum_energy_sq / n_meas\n",
    "    heat_capacity = (E2_avg - E_avg**2) / (T**2)"
   ]
  },
  {
   "cell_type": "code",
   "execution_count": null,
   "id": "873c3f56",
   "metadata": {},
   "outputs": [],
   "source": [
    "    print(f\"Heat capacity per site: {heat_capacity / (L * L):.4f}\")"
   ]
  },
  {
   "cell_type": "code",
   "execution_count": null,
   "id": "d8578d2b",
   "metadata": {},
   "outputs": [],
   "source": [
    "\n",
    "    # Plot and save results\n",
    "    root_dir=\"/Users/phxnw/Dropbox/course-disordered-matter/Coursework/\"\n",
    "    os.makedirs(os.path.join(root_dir, \"figures\"), exist_ok=True)\n",
    "    os.makedirs(os.path.join(root_dir, \"data\"), exist_ok=True)\n",
    "    \n",
    "    prefix = f\"L{L}_rho{density:.2f}_T{T:.2f}\""
   ]
  },
  {
   "cell_type": "code",
   "execution_count": null,
   "id": "f0ddd782",
   "metadata": {},
   "outputs": [],
   "source": [
    "    plt.figure()\n",
    "    plt.plot(r_vals, g_avg)\n",
    "    plt.xlabel(\"r\")\n",
    "    plt.ylabel(\"g(r)\")\n",
    "    plt.title(\"Average Pair Correlation Function\")\n",
    "    plt.savefig(root_dir+f\"figures/{prefix}_pair_correlation.pdf\")"
   ]
  },
  {
   "cell_type": "code",
   "execution_count": null,
   "id": "f2b6d7ff",
   "metadata": {},
   "outputs": [],
   "source": [
    "    plt.figure()\n",
    "    plt.imshow(S_avg, origin=\"lower\")\n",
    "    plt.title(\"2D Structure Factor S(k)\")\n",
    "    plt.colorbar()\n",
    "    plt.savefig(root_dir + f\"figures/{prefix}_structure_factor_2d.pdf\")"
   ]
  },
  {
   "cell_type": "code",
   "execution_count": null,
   "id": "d56ccdaa",
   "metadata": {},
   "outputs": [],
   "source": [
    "    plt.figure()\n",
    "    plt.plot(r_S, S_rad)\n",
    "    plt.xlabel(\"k\")\n",
    "    plt.ylabel(\"S(k)\")\n",
    "    plt.title(\"Radial Average of Structure Factor\")\n",
    "    plt.savefig(root_dir + f\"figures/{prefix}_structure_factor_radial.pdf\")\n",
    "# Write out structure factor for analysis.\n",
    "    output_path = root_dir + f\"data/{prefix}_structure_factor_radial.csv\"\n",
    "    np.savetxt(output_path, np.column_stack((r_S, S_rad)), delimiter=\",\", header=\"k,S(k)\", comments='')"
   ]
  },
  {
   "cell_type": "code",
   "execution_count": null,
   "id": "012c3e6a",
   "metadata": {},
   "outputs": [],
   "source": [
    "    plt.figure()\n",
    "    plt.imshow(lattice, cmap=\"gray\")\n",
    "    plt.axis(\"off\")\n",
    "    plt.title(\"Final Lattice Configuration\")\n",
    "    plt.savefig(root_dir + f\"figures/{prefix}_final_lattice.pdf\")"
   ]
  },
  {
   "cell_type": "code",
   "execution_count": null,
   "id": "5ae8bae8",
   "metadata": {},
   "outputs": [],
   "source": [
    "    plt.show()"
   ]
  },
  {
   "cell_type": "code",
   "execution_count": null,
   "id": "c42e9796",
   "metadata": {},
   "outputs": [],
   "source": [
    "    heat_output_path = root_dir + f\"data/{prefix}_heat_capacity.txt\"\n",
    "    with open(heat_output_path, \"w\") as f:\n",
    "        f.write(f\"# Heat capacity per site\\n\")\n",
    "        f.write(f\"C_per_site = {heat_capacity / (L * L):.6f}\\n\")\n",
    "        f.write(f\"# Average Energy = {E_avg:.6f}\\n\")\n",
    "        f.write(f\"# Average Energy^2 = {E2_avg:.6f}\\n\")"
   ]
  },
  {
   "cell_type": "code",
   "execution_count": null,
   "id": "77d94106",
   "metadata": {},
   "outputs": [],
   "source": [
    "    # Print final acceptance rate\n",
    "    print(f\"Acceptance rate: {total_accept / total_attempt:.4f}\")\n"
   ]
  }
 ],
 "metadata": {},
 "nbformat": 4,
 "nbformat_minor": 5
}